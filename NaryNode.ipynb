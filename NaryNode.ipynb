{
 "cells": [
  {
   "cell_type": "code",
   "execution_count": 7,
   "id": "8ee1f497",
   "metadata": {},
   "outputs": [
    {
     "name": "stdout",
     "output_type": "stream",
     "text": [
      "Root: A B C\n",
      "A: D E\n",
      "B: \n",
      "C: F\n",
      "D: G\n",
      "E: \n",
      "F: H I\n",
      "G: \n",
      "H: \n",
      "I: \n"
     ]
    }
   ],
   "source": [
    "class BinaryNode:\n",
    "    \"\"\"Binary Node\"\"\"\n",
    "    def __init__(self, val):\n",
    "        self.value = val\n",
    "        self.children = []\n",
    "        \n",
    "    def add_child(self, node):\n",
    "        self.children.append(node)\n",
    "        \n",
    "    def __str__(self):\n",
    "        children = [x.value for x in self.children]\n",
    "\n",
    "        return \"%s: %s\" % (self.value, \" \".join(children))\n",
    "        \n",
    "    \n",
    "def main():\n",
    "    root = BinaryNode(\"Root\")\n",
    "    a = BinaryNode(\"A\");\n",
    "    b = BinaryNode(\"B\");\n",
    "    c = BinaryNode(\"C\");\n",
    "    d = BinaryNode(\"D\");\n",
    "    e = BinaryNode(\"E\");\n",
    "    f = BinaryNode(\"F\");\n",
    "    g = BinaryNode(\"G\");\n",
    "    h = BinaryNode(\"H\");\n",
    "    i = BinaryNode(\"I\");\n",
    "    \n",
    "    \n",
    "    root.add_child(a)\n",
    "    root.add_child(b)\n",
    "    root.add_child(c)\n",
    "    \n",
    "    a.add_child(d)\n",
    "    a.add_child(e)\n",
    "    \n",
    "    c.add_child(f)\n",
    "    \n",
    "    d.add_child(g)\n",
    "    \n",
    "    f.add_child(h)\n",
    "    f.add_child(i)\n",
    "\n",
    "    \n",
    "    print(root)\n",
    "    print(a)\n",
    "    print(b)\n",
    "    print(c)\n",
    "    print(d)\n",
    "    print(e)\n",
    "    print(f)\n",
    "    print(g)\n",
    "    print(h)\n",
    "    print(i)\n",
    "\n",
    "\n",
    "if __name__ == \"__main__\":\n",
    "    main()"
   ]
  },
  {
   "cell_type": "code",
   "execution_count": null,
   "id": "41e66abe",
   "metadata": {},
   "outputs": [],
   "source": []
  },
  {
   "cell_type": "code",
   "execution_count": null,
   "id": "e9b14e55",
   "metadata": {},
   "outputs": [],
   "source": []
  }
 ],
 "metadata": {
  "kernelspec": {
   "display_name": "Python 3 (ipykernel)",
   "language": "python",
   "name": "python3"
  },
  "language_info": {
   "codemirror_mode": {
    "name": "ipython",
    "version": 3
   },
   "file_extension": ".py",
   "mimetype": "text/x-python",
   "name": "python",
   "nbconvert_exporter": "python",
   "pygments_lexer": "ipython3",
   "version": "3.9.7"
  }
 },
 "nbformat": 4,
 "nbformat_minor": 5
}
