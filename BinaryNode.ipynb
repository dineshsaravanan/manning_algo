{
 "cells": [
  {
   "cell_type": "code",
   "execution_count": 11,
   "id": "a8809abc",
   "metadata": {},
   "outputs": [
    {
     "name": "stdout",
     "output_type": "stream",
     "text": [
      "Root: A B\n",
      "A: C D\n",
      "B: None E\n",
      "C: None None\n",
      "D: None None\n",
      "E: F None\n",
      "F: None None\n"
     ]
    }
   ],
   "source": [
    "class BinaryNode:\n",
    "    \"\"\"Binary Node\"\"\"\n",
    "    def __init__(self, val):\n",
    "        self.value = val\n",
    "        self.left_child = None\n",
    "        self.right_child = None\n",
    "        \n",
    "    def add_left(self, left):\n",
    "        self.left_child = left\n",
    "        \n",
    "    def add_right(self, right):\n",
    "        self.right_child = right\n",
    "        \n",
    "    def __str__(self):\n",
    "        left_val = self.left_child.value if  self.left_child != None else \"None\"\n",
    "        right_val = self.right_child.value if  self.right_child != None else \"None\"\n",
    "\n",
    "        return \"%s: %s %s\" % (self.value, left_val, right_val)\n",
    "        \n",
    "    \n",
    "def main():\n",
    "    root = BinaryNode(\"Root\")\n",
    "    a = BinaryNode(\"A\");\n",
    "    b = BinaryNode(\"B\");\n",
    "    c = BinaryNode(\"C\");\n",
    "    d = BinaryNode(\"D\");\n",
    "    e = BinaryNode(\"E\");\n",
    "    f = BinaryNode(\"F\");\n",
    "    \n",
    "    \n",
    "    root.add_left(a)\n",
    "    root.add_right(b)\n",
    "    \n",
    "    a.add_left(c)\n",
    "    a.add_right(d)\n",
    "    \n",
    "    b.add_right(e)\n",
    "    e.add_left(f)\n",
    "    \n",
    "    print(root)\n",
    "    print(a)\n",
    "    print(b)\n",
    "    print(c)\n",
    "    print(d)\n",
    "    print(e)\n",
    "    print(f)\n",
    "\n",
    "\n",
    "if __name__ == \"__main__\":\n",
    "    main()\n",
    "        \n",
    "    \n",
    "        \n",
    "    "
   ]
  },
  {
   "cell_type": "code",
   "execution_count": null,
   "id": "d8dad5ed",
   "metadata": {},
   "outputs": [],
   "source": []
  }
 ],
 "metadata": {
  "kernelspec": {
   "display_name": "Python 3 (ipykernel)",
   "language": "python",
   "name": "python3"
  },
  "language_info": {
   "codemirror_mode": {
    "name": "ipython",
    "version": 3
   },
   "file_extension": ".py",
   "mimetype": "text/x-python",
   "name": "python",
   "nbconvert_exporter": "python",
   "pygments_lexer": "ipython3",
   "version": "3.9.7"
  }
 },
 "nbformat": 4,
 "nbformat_minor": 5
}
